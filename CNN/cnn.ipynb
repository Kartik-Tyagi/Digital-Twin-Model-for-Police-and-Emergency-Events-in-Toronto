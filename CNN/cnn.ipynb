{
 "cells": [
  {
   "cell_type": "code",
   "execution_count": 35,
   "metadata": {},
   "outputs": [],
   "source": [
    "import torch\n",
    "import torch.nn as nn\n",
    "import torch.nn.functional as F\n",
    "import torchvision\n",
    "from torchvision import datasets, transforms\n",
    "import matplotlib.pyplot as plt\n",
    "import torch.optim as optim\n",
    "import os\n",
    "import io\n",
    "from PIL import Image\n",
    "import urllib.request\n",
    "import torchvision.models\n",
    "import random\n",
    "import numpy as np\n",
    "from torch.utils.data import DataLoader, Dataset\n",
    "import time\n",
    "import pandas as pd\n",
    "from sklearn.preprocessing import LabelEncoder"
   ]
  },
  {
   "cell_type": "code",
   "execution_count": 5,
   "metadata": {},
   "outputs": [],
   "source": [
    "#Baseline model for feature extractor\n",
    "\n",
    "class BaselineFeatureExtractor(nn.Module):\n",
    "    def __int__(self, input_size, hidden_size, output_size):\n",
    "        super(BaselineFeatureExtractor, self).__init__()\n",
    "        \n",
    "        self.linear1 = nn.Linear(input_size, hidden_size)\n",
    "        self.linear2 = nn.Linear(hidden_size, hidden_size//2)\n",
    "        self.linear3 = nn.Linear(hidden_size//2, output_size)\n",
    "    \n",
    "    def forward(self, x):\n",
    "        x = F.relu(self.linear1(x))\n",
    "        x = F.relu(self.linear2(x))\n",
    "        x = self.linear3(x)\n",
    "        return x"
   ]
  },
  {
   "cell_type": "code",
   "execution_count": 11,
   "metadata": {},
   "outputs": [],
   "source": [
    "#Loading dataset\n",
    "\n",
    "file_path = \"../Datasets/major-crime-indicators.csv\"\n",
    "data = pd.read_csv(file_path)"
   ]
  },
  {
   "cell_type": "code",
   "execution_count": 66,
   "metadata": {},
   "outputs": [],
   "source": [
    "label_encoder = LabelEncoder()\n",
    "\n",
    "categories = data['OFFENCE'].unique().tolist()\n",
    "organized_data = []\n",
    "for category in categories:\n",
    "    temp_list = data[data['OFFENCE'] == category]\n",
    "    organized_data.append(temp_list)\n",
    "\n",
    "\n",
    "\n",
    "shuffled_data = data.sample(frac=1).reset_index(drop=True)\n",
    "\n",
    "shuffled_data.drop('_id', axis=1, inplace=True)\n",
    "shuffled_data.drop('EVENT_UNIQUE_ID', axis=1, inplace=True)\n",
    "shuffled_data.drop('NEIGHBOURHOOD_158', axis=1, inplace=True)\n",
    "shuffled_data.drop('HOOD_140', axis=1, inplace=True)\n",
    "shuffled_data.drop('NEIGHBOURHOOD_140', axis=1, inplace=True)\n",
    "shuffled_data.drop('REPORT_DATE', axis=1, inplace=True)\n",
    "shuffled_data.drop('OCC_DATE', axis=1, inplace=True)\n",
    "\n",
    "shuffled_data['DIVISION'] = shuffled_data['DIVISION'].apply(lambda x: int(x[1:]) if x != 'NSA' else 10)\n",
    "\n",
    "shuffled_data['REPORT_MONTH'] = label_encoder.fit_transform(shuffled_data['REPORT_MONTH'])\n",
    "shuffled_data['REPORT_DOW'] = label_encoder.fit_transform(shuffled_data['REPORT_DOW'])\n",
    "shuffled_data['OCC_MONTH'] = label_encoder.fit_transform(shuffled_data['OCC_MONTH'])\n",
    "shuffled_data['OCC_DOW'] = label_encoder.fit_transform(shuffled_data['OCC_DOW'])\n",
    "shuffled_data['LOCATION_TYPE'] = label_encoder.fit_transform(shuffled_data['LOCATION_TYPE'])\n",
    "shuffled_data['PREMISES_TYPE'] = label_encoder.fit_transform(shuffled_data['PREMISES_TYPE'])\n",
    "shuffled_data['OFFENCE'] = label_encoder.fit_transform(shuffled_data['OFFENCE'])\n",
    "shuffled_data['MCI_CATEGORY'] = label_encoder.fit_transform(shuffled_data['MCI_CATEGORY'])\n"
   ]
  },
  {
   "cell_type": "code",
   "execution_count": null,
   "metadata": {},
   "outputs": [
    {
     "name": "stdout",
     "output_type": "stream",
     "text": [
      "0\n",
      "REPORT_YEAR           2022\n",
      "REPORT_MONTH             9\n",
      "REPORT_DAY               3\n",
      "REPORT_DOY             307\n",
      "REPORT_DOW               4\n",
      "REPORT_HOUR             12\n",
      "OCC_YEAR            2022.0\n",
      "OCC_MONTH               10\n",
      "OCC_DAY               15.0\n",
      "OCC_DOY              288.0\n",
      "OCC_DOW                  2\n",
      "OCC_HOUR                18\n",
      "DIVISION                32\n",
      "LOCATION_TYPE            0\n",
      "PREMISES_TYPE            0\n",
      "UCR_CODE              1480\n",
      "UCR_EXT                110\n",
      "OFFENCE                  0\n",
      "MCI_CATEGORY             0\n",
      "HOOD_158               035\n",
      "LONG_WGS84      -79.450917\n",
      "LAT_WGS84        43.772309\n",
      "Name: 0, dtype: object\n"
     ]
    },
    {
     "ename": "TypeError",
     "evalue": "must be real number, not str",
     "output_type": "error",
     "traceback": [
      "\u001b[1;31m---------------------------------------------------------------------------\u001b[0m",
      "\u001b[1;31mTypeError\u001b[0m                                 Traceback (most recent call last)",
      "Cell \u001b[1;32mIn[69], line 6\u001b[0m\n\u001b[0;32m      4\u001b[0m \u001b[38;5;28mprint\u001b[39m(index)\n\u001b[0;32m      5\u001b[0m \u001b[38;5;28mprint\u001b[39m(row)\n\u001b[1;32m----> 6\u001b[0m tensor \u001b[38;5;241m=\u001b[39m \u001b[43mtorch\u001b[49m\u001b[38;5;241;43m.\u001b[39;49m\u001b[43mtensor\u001b[49m\u001b[43m(\u001b[49m\u001b[43mrow\u001b[49m\u001b[38;5;241;43m.\u001b[39;49m\u001b[43mvalues\u001b[49m\u001b[43m,\u001b[49m\u001b[43m \u001b[49m\u001b[43mdtype\u001b[49m\u001b[38;5;241;43m=\u001b[39;49m\u001b[43mtorch\u001b[49m\u001b[38;5;241;43m.\u001b[39;49m\u001b[43mfloat32\u001b[49m\u001b[43m)\u001b[49m\n\u001b[0;32m      7\u001b[0m input_list\u001b[38;5;241m.\u001b[39mappend(tensor)\n",
      "\u001b[1;31mTypeError\u001b[0m: must be real number, not str"
     ]
    }
   ],
   "source": [
    "input_list = []\n",
    "\n",
    "for index, row in shuffled_data.iterrows():\n",
    "    print(index)\n",
    "    print(row)\n",
    "    numeric_values = row.select_dtypes(include=['number']).values\n",
    "    tensor = torch.tensor(row.values, dtype=torch.float32)\n",
    "    input_list.append(tensor)"
   ]
  },
  {
   "cell_type": "code",
   "execution_count": 71,
   "metadata": {},
   "outputs": [
    {
     "ename": "AttributeError",
     "evalue": "'numpy.ndarray' object has no attribute 'iterrows'",
     "output_type": "error",
     "traceback": [
      "\u001b[1;31m---------------------------------------------------------------------------\u001b[0m",
      "\u001b[1;31mAttributeError\u001b[0m                            Traceback (most recent call last)",
      "Cell \u001b[1;32mIn[71], line 5\u001b[0m\n\u001b[0;32m      1\u001b[0m input_list \u001b[38;5;241m=\u001b[39m []\n\u001b[0;32m      3\u001b[0m numeric_values \u001b[38;5;241m=\u001b[39m shuffled_data\u001b[38;5;241m.\u001b[39mselect_dtypes(include\u001b[38;5;241m=\u001b[39m[\u001b[38;5;124m'\u001b[39m\u001b[38;5;124mnumber\u001b[39m\u001b[38;5;124m'\u001b[39m])\u001b[38;5;241m.\u001b[39mvalues\n\u001b[1;32m----> 5\u001b[0m \u001b[38;5;28;01mfor\u001b[39;00m index, row \u001b[38;5;129;01min\u001b[39;00m \u001b[43mnumeric_values\u001b[49m\u001b[38;5;241;43m.\u001b[39;49m\u001b[43miterrows\u001b[49m():\n\u001b[0;32m      6\u001b[0m     \u001b[38;5;28mprint\u001b[39m(index)\n\u001b[0;32m      7\u001b[0m     \u001b[38;5;28mprint\u001b[39m(row)\n",
      "\u001b[1;31mAttributeError\u001b[0m: 'numpy.ndarray' object has no attribute 'iterrows'"
     ]
    }
   ],
   "source": [
    "input_list = []\n",
    "\n",
    "numeric_values = shuffled_data.select_dtypes(include=['number']).values\n",
    "\n",
    "for index, row in numeric_values.iterrows():\n",
    "    print(index)\n",
    "    print(row)\n",
    "    numeric_values = row.select_dtypes(include=['number']).values\n",
    "    tensor = torch.tensor(row.values, dtype=torch.float32)\n",
    "    input_list.append(tensor)"
   ]
  }
 ],
 "metadata": {
  "kernelspec": {
   "display_name": "Python 3",
   "language": "python",
   "name": "python3"
  },
  "language_info": {
   "codemirror_mode": {
    "name": "ipython",
    "version": 3
   },
   "file_extension": ".py",
   "mimetype": "text/x-python",
   "name": "python",
   "nbconvert_exporter": "python",
   "pygments_lexer": "ipython3",
   "version": "3.12.6"
  }
 },
 "nbformat": 4,
 "nbformat_minor": 2
}
